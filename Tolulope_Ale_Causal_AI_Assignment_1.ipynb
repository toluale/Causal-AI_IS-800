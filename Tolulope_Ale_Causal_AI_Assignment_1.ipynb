{
  "nbformat": 4,
  "nbformat_minor": 0,
  "metadata": {
    "colab": {
      "provenance": []
    },
    "kernelspec": {
      "name": "python3",
      "display_name": "Python 3"
    },
    "language_info": {
      "name": "python"
    }
  },
  "cells": [
    {
      "cell_type": "markdown",
      "source": [
        "## **Question 2**\n",
        "\n",
        "![image.png](data:image/png;base64,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)\n",
        "\n",
        "Now, consider the following causal graph in Fig. (1).\n",
        "1. Write code using causalgraphicalmodel library in Python to draw this causal graph in Python. [0.5 points]\n",
        "\n",
        "2. Write code to find all backdoor paths from X to Y. [0.5 points]\n",
        "\n",
        "3. Write code to list all of the sets of variables that satisfy the backdoor criterion to determine the causal\n",
        "effect of X on Y. [0.5 points]\n",
        "\n",
        "4. [Not code, do it in paper and write your findings as a text block on Jupyter notebook] List all of the\n",
        "minimal sets of variables that satisfy the backdoor criterion to determine the causal effect of X on Y (i.e.,\n",
        "any set of variables such that, if you removed any one of the variables from the set, it would no longer\n",
        "meet the criterion). [0.5 points]\n",
        "\n",
        "5. You are given the data set associated with the causal graph presented in Fig. (1). The data set is provided\n",
        "to you as a csv file, \"DatasetProblem2.csv\". Write code to load and take a look at the data. [0.5 points]\n",
        "Example code:\n",
        "\n",
        "6. Let’s assume that X and Y have a linear relationship. Now, using the data and causal effect estimation\n",
        "code, write code to find the causal effect of X on Y for the following adjustment sets. [0.5 point]\n",
        "a. Empty adjustment set, {}\n",
        "b. {Z}\n",
        "c. {Z, A}\n",
        "d. {Z, B}\n",
        "e. {Z, C}\n",
        "f. {Z, D}\n",
        "g. {A, B, C, D}\n",
        "h. {Z, A, B, C, D}\n",
        "\n",
        "7. Explain the similarities and differences in results that found in question 6(a)-(h) based on different\n",
        "adjustment sets. Hint: you can use your answer to question 2, 3 and 4 to explain it. [0.5 points]"
      ],
      "metadata": {
        "id": "vUwIpWU7obz-"
      }
    },
    {
      "cell_type": "code",
      "execution_count": null,
      "metadata": {
        "id": "6ZSWz8nzRPKz"
      },
      "outputs": [],
      "source": [
        "import pandas as pd\n",
        "import numpy as np\n",
        "import matplotlib.pyplot as plt\n",
        "from sklearn.linear_model import LinearRegression\n",
        "from sklearn.linear_model import LogisticRegression\n",
        "from sklearn.ensemble import RandomForestClassifier\n",
        "from xgboost import XGBClassifier\n",
        "!pip install graphviz\n",
        "!apt install libgraphviz-dev\n",
        "!pip install pygraphviz\n",
        "\n",
        "import networkx as nx\n",
        "from networkx.drawing.nx_agraph import graphviz_layout, to_agraph\n",
        "import pygraphviz as pgv\n",
        "\n",
        "!pip install causalgraphicalmodels\n",
        "from causalgraphicalmodels import CausalGraphicalModel\n",
        "from causalgraphicalmodels.examples import fork, chain, collider"
      ]
    },
    {
      "cell_type": "markdown",
      "source": [
        "Q2) 1."
      ],
      "metadata": {
        "id": "9aVauak0QO7s"
      }
    },
    {
      "cell_type": "code",
      "source": [
        "graph= CausalGraphicalModel(\n",
        "    nodes = ['B','A','C','D','Z','X','W','Y'],\n",
        "    edges = [('C','Z'),('C','D'),('D','Y'),('B','A'),('B','Z'),('A','X'),('Z','X'),('X','W'),('Z','Y'),('W','Y')]\n",
        ")\n",
        "graph.draw()"
      ],
      "metadata": {
        "colab": {
          "base_uri": "https://localhost:8080/",
          "height": 464
        },
        "id": "9u_jdjnl3tyq",
        "outputId": "68b04d7f-3a4e-48d6-863b-9426da06a275"
      },
      "execution_count": null,
      "outputs": [
        {
          "output_type": "execute_result",
          "data": {
            "text/plain": [
              "<graphviz.dot.Digraph at 0x7f7bb318aa50>"
            ],
            "image/svg+xml": "<?xml version=\"1.0\" encoding=\"UTF-8\" standalone=\"no\"?>\n<!DOCTYPE svg PUBLIC \"-//W3C//DTD SVG 1.1//EN\"\n \"http://www.w3.org/Graphics/SVG/1.1/DTD/svg11.dtd\">\n<!-- Generated by graphviz version 2.40.1 (20161225.0304)\n -->\n<!-- Title: %3 Pages: 1 -->\n<svg width=\"189pt\" height=\"332pt\"\n viewBox=\"0.00 0.00 189.00 332.00\" xmlns=\"http://www.w3.org/2000/svg\" xmlns:xlink=\"http://www.w3.org/1999/xlink\">\n<g id=\"graph0\" class=\"graph\" transform=\"scale(1 1) rotate(0) translate(4 328)\">\n<title>%3</title>\n<polygon fill=\"#ffffff\" stroke=\"transparent\" points=\"-4,4 -4,-328 185,-328 185,4 -4,4\"/>\n<!-- C -->\n<g id=\"node1\" class=\"node\">\n<title>C</title>\n<ellipse fill=\"none\" stroke=\"#000000\" cx=\"54\" cy=\"-306\" rx=\"27\" ry=\"18\"/>\n<text text-anchor=\"middle\" x=\"54\" y=\"-302.3\" font-family=\"Times,serif\" font-size=\"14.00\" fill=\"#000000\">C</text>\n</g>\n<!-- Z -->\n<g id=\"node3\" class=\"node\">\n<title>Z</title>\n<ellipse fill=\"none\" stroke=\"#000000\" cx=\"82\" cy=\"-234\" rx=\"27\" ry=\"18\"/>\n<text text-anchor=\"middle\" x=\"82\" y=\"-230.3\" font-family=\"Times,serif\" font-size=\"14.00\" fill=\"#000000\">Z</text>\n</g>\n<!-- C&#45;&gt;Z -->\n<g id=\"edge4\" class=\"edge\">\n<title>C&#45;&gt;Z</title>\n<path fill=\"none\" stroke=\"#000000\" d=\"M60.778,-288.5708C63.9872,-280.3187 67.8935,-270.2738 71.4758,-261.0623\"/>\n<polygon fill=\"#000000\" stroke=\"#000000\" points=\"74.8248,-262.1069 75.1874,-251.5182 68.3008,-259.5697 74.8248,-262.1069\"/>\n</g>\n<!-- D -->\n<g id=\"node7\" class=\"node\">\n<title>D</title>\n<ellipse fill=\"none\" stroke=\"#000000\" cx=\"27\" cy=\"-162\" rx=\"27\" ry=\"18\"/>\n<text text-anchor=\"middle\" x=\"27\" y=\"-158.3\" font-family=\"Times,serif\" font-size=\"14.00\" fill=\"#000000\">D</text>\n</g>\n<!-- C&#45;&gt;D -->\n<g id=\"edge5\" class=\"edge\">\n<title>C&#45;&gt;D</title>\n<path fill=\"none\" stroke=\"#000000\" d=\"M50.635,-288.0535C46.027,-263.4774 37.7064,-219.1008 32.2683,-190.0974\"/>\n<polygon fill=\"#000000\" stroke=\"#000000\" points=\"35.6904,-189.3564 30.4074,-180.1727 28.8103,-190.6465 35.6904,-189.3564\"/>\n</g>\n<!-- A -->\n<g id=\"node2\" class=\"node\">\n<title>A</title>\n<ellipse fill=\"none\" stroke=\"#000000\" cx=\"154\" cy=\"-234\" rx=\"27\" ry=\"18\"/>\n<text text-anchor=\"middle\" x=\"154\" y=\"-230.3\" font-family=\"Times,serif\" font-size=\"14.00\" fill=\"#000000\">A</text>\n</g>\n<!-- X -->\n<g id=\"node6\" class=\"node\">\n<title>X</title>\n<ellipse fill=\"none\" stroke=\"#000000\" cx=\"137\" cy=\"-162\" rx=\"27\" ry=\"18\"/>\n<text text-anchor=\"middle\" x=\"137\" y=\"-158.3\" font-family=\"Times,serif\" font-size=\"14.00\" fill=\"#000000\">X</text>\n</g>\n<!-- A&#45;&gt;X -->\n<g id=\"edge3\" class=\"edge\">\n<title>A&#45;&gt;X</title>\n<path fill=\"none\" stroke=\"#000000\" d=\"M149.7978,-216.2022C147.9179,-208.2406 145.6575,-198.6671 143.5629,-189.7957\"/>\n<polygon fill=\"#000000\" stroke=\"#000000\" points=\"146.9172,-188.7706 141.2128,-179.8425 140.1045,-190.3792 146.9172,-188.7706\"/>\n</g>\n<!-- Y -->\n<g id=\"node5\" class=\"node\">\n<title>Y</title>\n<ellipse fill=\"none\" stroke=\"#000000\" cx=\"82\" cy=\"-18\" rx=\"27\" ry=\"18\"/>\n<text text-anchor=\"middle\" x=\"82\" y=\"-14.3\" font-family=\"Times,serif\" font-size=\"14.00\" fill=\"#000000\">Y</text>\n</g>\n<!-- Z&#45;&gt;Y -->\n<g id=\"edge8\" class=\"edge\">\n<title>Z&#45;&gt;Y</title>\n<path fill=\"none\" stroke=\"#000000\" d=\"M82,-215.9555C82,-178.3938 82,-91.5541 82,-46.4103\"/>\n<polygon fill=\"#000000\" stroke=\"#000000\" points=\"85.5001,-46.145 82,-36.1451 78.5001,-46.1451 85.5001,-46.145\"/>\n</g>\n<!-- Z&#45;&gt;X -->\n<g id=\"edge7\" class=\"edge\">\n<title>Z&#45;&gt;X</title>\n<path fill=\"none\" stroke=\"#000000\" d=\"M94.4804,-217.6621C101.5124,-208.4564 110.4347,-196.7764 118.2883,-186.4953\"/>\n<polygon fill=\"#000000\" stroke=\"#000000\" points=\"121.28,-188.3446 124.569,-178.2733 115.7172,-184.0953 121.28,-188.3446\"/>\n</g>\n<!-- W -->\n<g id=\"node4\" class=\"node\">\n<title>W</title>\n<ellipse fill=\"none\" stroke=\"#000000\" cx=\"137\" cy=\"-90\" rx=\"27\" ry=\"18\"/>\n<text text-anchor=\"middle\" x=\"137\" y=\"-86.3\" font-family=\"Times,serif\" font-size=\"14.00\" fill=\"#000000\">W</text>\n</g>\n<!-- W&#45;&gt;Y -->\n<g id=\"edge10\" class=\"edge\">\n<title>W&#45;&gt;Y</title>\n<path fill=\"none\" stroke=\"#000000\" d=\"M124.5196,-73.6621C117.4876,-64.4564 108.5653,-52.7764 100.7117,-42.4953\"/>\n<polygon fill=\"#000000\" stroke=\"#000000\" points=\"103.2828,-40.0953 94.431,-34.2733 97.72,-44.3446 103.2828,-40.0953\"/>\n</g>\n<!-- X&#45;&gt;W -->\n<g id=\"edge9\" class=\"edge\">\n<title>X&#45;&gt;W</title>\n<path fill=\"none\" stroke=\"#000000\" d=\"M137,-143.8314C137,-136.131 137,-126.9743 137,-118.4166\"/>\n<polygon fill=\"#000000\" stroke=\"#000000\" points=\"140.5001,-118.4132 137,-108.4133 133.5001,-118.4133 140.5001,-118.4132\"/>\n</g>\n<!-- D&#45;&gt;Y -->\n<g id=\"edge6\" class=\"edge\">\n<title>D&#45;&gt;Y</title>\n<path fill=\"none\" stroke=\"#000000\" d=\"M33.7441,-144.3428C43.1867,-119.6202 60.4351,-74.4608 71.5485,-45.3639\"/>\n<polygon fill=\"#000000\" stroke=\"#000000\" points=\"74.9023,-46.3923 75.2008,-35.8017 68.363,-43.8946 74.9023,-46.3923\"/>\n</g>\n<!-- B -->\n<g id=\"node8\" class=\"node\">\n<title>B</title>\n<ellipse fill=\"none\" stroke=\"#000000\" cx=\"140\" cy=\"-306\" rx=\"27\" ry=\"18\"/>\n<text text-anchor=\"middle\" x=\"140\" y=\"-302.3\" font-family=\"Times,serif\" font-size=\"14.00\" fill=\"#000000\">B</text>\n</g>\n<!-- B&#45;&gt;A -->\n<g id=\"edge1\" class=\"edge\">\n<title>B&#45;&gt;A</title>\n<path fill=\"none\" stroke=\"#000000\" d=\"M143.5328,-287.8314C145.0698,-279.9266 146.9053,-270.4872 148.6068,-261.7365\"/>\n<polygon fill=\"#000000\" stroke=\"#000000\" points=\"152.0437,-262.3976 150.5168,-251.9134 145.1724,-261.0615 152.0437,-262.3976\"/>\n</g>\n<!-- B&#45;&gt;Z -->\n<g id=\"edge2\" class=\"edge\">\n<title>B&#45;&gt;Z</title>\n<path fill=\"none\" stroke=\"#000000\" d=\"M127.1279,-290.0209C119.5438,-280.6061 109.8018,-268.5126 101.3116,-257.973\"/>\n<polygon fill=\"#000000\" stroke=\"#000000\" points=\"103.8351,-255.5264 94.8361,-249.9345 98.3838,-259.9177 103.8351,-255.5264\"/>\n</g>\n</g>\n</svg>\n"
          },
          "metadata": {},
          "execution_count": 5
        }
      ]
    },
    {
      "cell_type": "markdown",
      "source": [
        "Q2) 2."
      ],
      "metadata": {
        "id": "I7OHcGR2P-EV"
      }
    },
    {
      "cell_type": "code",
      "source": [
        "graph.get_all_backdoor_paths(\"X\", \"Y\")"
      ],
      "metadata": {
        "colab": {
          "base_uri": "https://localhost:8080/"
        },
        "id": "CJiedKjo7kB4",
        "outputId": "02453bd2-61ed-4046-dcb3-59cae6e87dda"
      },
      "execution_count": null,
      "outputs": [
        {
          "output_type": "execute_result",
          "data": {
            "text/plain": [
              "[['X', 'A', 'B', 'Z', 'C', 'D', 'Y'],\n",
              " ['X', 'A', 'B', 'Z', 'Y'],\n",
              " ['X', 'Z', 'C', 'D', 'Y'],\n",
              " ['X', 'Z', 'Y']]"
            ]
          },
          "metadata": {},
          "execution_count": 7
        }
      ]
    },
    {
      "cell_type": "markdown",
      "source": [
        "Q2) 3."
      ],
      "metadata": {
        "id": "5XpMEanaP3qW"
      }
    },
    {
      "cell_type": "code",
      "source": [
        "graph.get_all_backdoor_adjustment_sets(\"X\", \"Y\")"
      ],
      "metadata": {
        "colab": {
          "base_uri": "https://localhost:8080/"
        },
        "id": "XHnQyX9JA4E8",
        "outputId": "eb935b6e-eb73-45bb-e2f0-6791b00020ea"
      },
      "execution_count": null,
      "outputs": [
        {
          "output_type": "execute_result",
          "data": {
            "text/plain": [
              "frozenset({frozenset({'D', 'Z'}),\n",
              "           frozenset({'A', 'D', 'Z'}),\n",
              "           frozenset({'C', 'D', 'Z'}),\n",
              "           frozenset({'B', 'D', 'Z'}),\n",
              "           frozenset({'B', 'C', 'D', 'Z'}),\n",
              "           frozenset({'A', 'Z'}),\n",
              "           frozenset({'C', 'Z'}),\n",
              "           frozenset({'A', 'C', 'Z'}),\n",
              "           frozenset({'B', 'Z'}),\n",
              "           frozenset({'B', 'C', 'Z'}),\n",
              "           frozenset({'A', 'B', 'Z'}),\n",
              "           frozenset({'A', 'B', 'C', 'Z'}),\n",
              "           frozenset({'A', 'B', 'D', 'Z'}),\n",
              "           frozenset({'A', 'C', 'D', 'Z'}),\n",
              "           frozenset({'A', 'B', 'C', 'D', 'Z'})})"
            ]
          },
          "metadata": {},
          "execution_count": 8
        }
      ]
    },
    {
      "cell_type": "markdown",
      "source": [
        "Q2) 4."
      ],
      "metadata": {
        "id": "ubSHDjC0Qnnq"
      }
    },
    {
      "cell_type": "markdown",
      "source": [
        "*   {A,Z}\n",
        "*   {D,Z}\n",
        "*   {Z,C}\n",
        "*   {Z,B}\n",
        "\n",
        "\n",
        "\n"
      ],
      "metadata": {
        "id": "aNlzHColQr37"
      }
    },
    {
      "cell_type": "code",
      "source": [
        "from google.colab import drive\n",
        "drive.mount('/content/drive')"
      ],
      "metadata": {
        "colab": {
          "base_uri": "https://localhost:8080/"
        },
        "id": "E86Bu529EAv-",
        "outputId": "342dc94c-0db0-472d-a82e-1ce9aa0be566"
      },
      "execution_count": null,
      "outputs": [
        {
          "output_type": "stream",
          "name": "stdout",
          "text": [
            "Mounted at /content/drive\n"
          ]
        }
      ]
    },
    {
      "cell_type": "markdown",
      "source": [
        "Q2) 5."
      ],
      "metadata": {
        "id": "DbLX7aj3Pqsj"
      }
    },
    {
      "cell_type": "code",
      "source": [
        "data = pd.read_csv('/content/drive/My Drive/ML/DatasetProblem2.csv')"
      ],
      "metadata": {
        "id": "GOSL5b1oEgva"
      },
      "execution_count": null,
      "outputs": []
    },
    {
      "cell_type": "code",
      "source": [
        "data.head()"
      ],
      "metadata": {
        "colab": {
          "base_uri": "https://localhost:8080/",
          "height": 206
        },
        "id": "FQvpoNbnEud5",
        "outputId": "90c28a47-b57d-428c-c901-c6784a87ef26"
      },
      "execution_count": null,
      "outputs": [
        {
          "output_type": "execute_result",
          "data": {
            "text/plain": [
              "          A         B         C         D         W         x         y  \\\n",
              "0  2.602301  2.164052  0.497883  0.520597  0.455927  1.703984 -1.482663   \n",
              "1  0.839685  0.800157 -0.133231  0.264815  1.588338  2.700699  3.653630   \n",
              "2  2.265791  1.378738  2.433600  1.234205  1.163482  1.579211  3.269566   \n",
              "3  3.201152  2.640893  0.890649  0.402494  2.631039  2.132182  3.104638   \n",
              "4 -0.123011  2.267558  0.522190  0.810416 -1.173674 -1.910518 -0.222856   \n",
              "\n",
              "          Z  \n",
              "0 -0.459168  \n",
              "1  1.032344  \n",
              "2  4.030934  \n",
              "3  1.219381  \n",
              "4  0.732709  "
            ],
            "text/html": [
              "\n",
              "  <div id=\"df-7057e97e-52c6-4624-9069-a7ce8ea5cded\">\n",
              "    <div class=\"colab-df-container\">\n",
              "      <div>\n",
              "<style scoped>\n",
              "    .dataframe tbody tr th:only-of-type {\n",
              "        vertical-align: middle;\n",
              "    }\n",
              "\n",
              "    .dataframe tbody tr th {\n",
              "        vertical-align: top;\n",
              "    }\n",
              "\n",
              "    .dataframe thead th {\n",
              "        text-align: right;\n",
              "    }\n",
              "</style>\n",
              "<table border=\"1\" class=\"dataframe\">\n",
              "  <thead>\n",
              "    <tr style=\"text-align: right;\">\n",
              "      <th></th>\n",
              "      <th>A</th>\n",
              "      <th>B</th>\n",
              "      <th>C</th>\n",
              "      <th>D</th>\n",
              "      <th>W</th>\n",
              "      <th>x</th>\n",
              "      <th>y</th>\n",
              "      <th>Z</th>\n",
              "    </tr>\n",
              "  </thead>\n",
              "  <tbody>\n",
              "    <tr>\n",
              "      <th>0</th>\n",
              "      <td>2.602301</td>\n",
              "      <td>2.164052</td>\n",
              "      <td>0.497883</td>\n",
              "      <td>0.520597</td>\n",
              "      <td>0.455927</td>\n",
              "      <td>1.703984</td>\n",
              "      <td>-1.482663</td>\n",
              "      <td>-0.459168</td>\n",
              "    </tr>\n",
              "    <tr>\n",
              "      <th>1</th>\n",
              "      <td>0.839685</td>\n",
              "      <td>0.800157</td>\n",
              "      <td>-0.133231</td>\n",
              "      <td>0.264815</td>\n",
              "      <td>1.588338</td>\n",
              "      <td>2.700699</td>\n",
              "      <td>3.653630</td>\n",
              "      <td>1.032344</td>\n",
              "    </tr>\n",
              "    <tr>\n",
              "      <th>2</th>\n",
              "      <td>2.265791</td>\n",
              "      <td>1.378738</td>\n",
              "      <td>2.433600</td>\n",
              "      <td>1.234205</td>\n",
              "      <td>1.163482</td>\n",
              "      <td>1.579211</td>\n",
              "      <td>3.269566</td>\n",
              "      <td>4.030934</td>\n",
              "    </tr>\n",
              "    <tr>\n",
              "      <th>3</th>\n",
              "      <td>3.201152</td>\n",
              "      <td>2.640893</td>\n",
              "      <td>0.890649</td>\n",
              "      <td>0.402494</td>\n",
              "      <td>2.631039</td>\n",
              "      <td>2.132182</td>\n",
              "      <td>3.104638</td>\n",
              "      <td>1.219381</td>\n",
              "    </tr>\n",
              "    <tr>\n",
              "      <th>4</th>\n",
              "      <td>-0.123011</td>\n",
              "      <td>2.267558</td>\n",
              "      <td>0.522190</td>\n",
              "      <td>0.810416</td>\n",
              "      <td>-1.173674</td>\n",
              "      <td>-1.910518</td>\n",
              "      <td>-0.222856</td>\n",
              "      <td>0.732709</td>\n",
              "    </tr>\n",
              "  </tbody>\n",
              "</table>\n",
              "</div>\n",
              "      <button class=\"colab-df-convert\" onclick=\"convertToInteractive('df-7057e97e-52c6-4624-9069-a7ce8ea5cded')\"\n",
              "              title=\"Convert this dataframe to an interactive table.\"\n",
              "              style=\"display:none;\">\n",
              "        \n",
              "  <svg xmlns=\"http://www.w3.org/2000/svg\" height=\"24px\"viewBox=\"0 0 24 24\"\n",
              "       width=\"24px\">\n",
              "    <path d=\"M0 0h24v24H0V0z\" fill=\"none\"/>\n",
              "    <path d=\"M18.56 5.44l.94 2.06.94-2.06 2.06-.94-2.06-.94-.94-2.06-.94 2.06-2.06.94zm-11 1L8.5 8.5l.94-2.06 2.06-.94-2.06-.94L8.5 2.5l-.94 2.06-2.06.94zm10 10l.94 2.06.94-2.06 2.06-.94-2.06-.94-.94-2.06-.94 2.06-2.06.94z\"/><path d=\"M17.41 7.96l-1.37-1.37c-.4-.4-.92-.59-1.43-.59-.52 0-1.04.2-1.43.59L10.3 9.45l-7.72 7.72c-.78.78-.78 2.05 0 2.83L4 21.41c.39.39.9.59 1.41.59.51 0 1.02-.2 1.41-.59l7.78-7.78 2.81-2.81c.8-.78.8-2.07 0-2.86zM5.41 20L4 18.59l7.72-7.72 1.47 1.35L5.41 20z\"/>\n",
              "  </svg>\n",
              "      </button>\n",
              "      \n",
              "  <style>\n",
              "    .colab-df-container {\n",
              "      display:flex;\n",
              "      flex-wrap:wrap;\n",
              "      gap: 12px;\n",
              "    }\n",
              "\n",
              "    .colab-df-convert {\n",
              "      background-color: #E8F0FE;\n",
              "      border: none;\n",
              "      border-radius: 50%;\n",
              "      cursor: pointer;\n",
              "      display: none;\n",
              "      fill: #1967D2;\n",
              "      height: 32px;\n",
              "      padding: 0 0 0 0;\n",
              "      width: 32px;\n",
              "    }\n",
              "\n",
              "    .colab-df-convert:hover {\n",
              "      background-color: #E2EBFA;\n",
              "      box-shadow: 0px 1px 2px rgba(60, 64, 67, 0.3), 0px 1px 3px 1px rgba(60, 64, 67, 0.15);\n",
              "      fill: #174EA6;\n",
              "    }\n",
              "\n",
              "    [theme=dark] .colab-df-convert {\n",
              "      background-color: #3B4455;\n",
              "      fill: #D2E3FC;\n",
              "    }\n",
              "\n",
              "    [theme=dark] .colab-df-convert:hover {\n",
              "      background-color: #434B5C;\n",
              "      box-shadow: 0px 1px 3px 1px rgba(0, 0, 0, 0.15);\n",
              "      filter: drop-shadow(0px 1px 2px rgba(0, 0, 0, 0.3));\n",
              "      fill: #FFFFFF;\n",
              "    }\n",
              "  </style>\n",
              "\n",
              "      <script>\n",
              "        const buttonEl =\n",
              "          document.querySelector('#df-7057e97e-52c6-4624-9069-a7ce8ea5cded button.colab-df-convert');\n",
              "        buttonEl.style.display =\n",
              "          google.colab.kernel.accessAllowed ? 'block' : 'none';\n",
              "\n",
              "        async function convertToInteractive(key) {\n",
              "          const element = document.querySelector('#df-7057e97e-52c6-4624-9069-a7ce8ea5cded');\n",
              "          const dataTable =\n",
              "            await google.colab.kernel.invokeFunction('convertToInteractive',\n",
              "                                                     [key], {});\n",
              "          if (!dataTable) return;\n",
              "\n",
              "          const docLinkHtml = 'Like what you see? Visit the ' +\n",
              "            '<a target=\"_blank\" href=https://colab.research.google.com/notebooks/data_table.ipynb>data table notebook</a>'\n",
              "            + ' to learn more about interactive tables.';\n",
              "          element.innerHTML = '';\n",
              "          dataTable['output_type'] = 'display_data';\n",
              "          await google.colab.output.renderOutput(dataTable, element);\n",
              "          const docLink = document.createElement('div');\n",
              "          docLink.innerHTML = docLinkHtml;\n",
              "          element.appendChild(docLink);\n",
              "        }\n",
              "      </script>\n",
              "    </div>\n",
              "  </div>\n",
              "  "
            ]
          },
          "metadata": {},
          "execution_count": 52
        }
      ]
    },
    {
      "cell_type": "code",
      "source": [
        "data.shape"
      ],
      "metadata": {
        "colab": {
          "base_uri": "https://localhost:8080/"
        },
        "id": "aV2wni6pE528",
        "outputId": "9f2b2c4c-826c-493e-d366-6bbbe4e08d65"
      },
      "execution_count": null,
      "outputs": [
        {
          "output_type": "execute_result",
          "data": {
            "text/plain": [
              "(10000, 8)"
            ]
          },
          "metadata": {},
          "execution_count": 53
        }
      ]
    },
    {
      "cell_type": "code",
      "source": [
        "data.describe()"
      ],
      "metadata": {
        "colab": {
          "base_uri": "https://localhost:8080/",
          "height": 300
        },
        "id": "8IgmBsO6FDgl",
        "outputId": "ab043dd4-83b1-4028-80e1-51ca93d0c484"
      },
      "execution_count": null,
      "outputs": [
        {
          "output_type": "execute_result",
          "data": {
            "text/plain": [
              "                  A             B             C             D             W  \\\n",
              "count  10000.000000  10000.000000  10000.000000  10000.000000  10000.000000   \n",
              "mean       0.394982      0.381566      0.710988      0.211290      0.512583   \n",
              "std        1.440280      0.987606      0.993104      1.056776      1.739730   \n",
              "min       -5.215048     -3.340101     -3.746632     -3.940893     -6.457293   \n",
              "25%       -0.570654     -0.289707      0.054712     -0.485442     -0.668365   \n",
              "50%        0.389879      0.372927      0.704078      0.228657      0.522088   \n",
              "75%        1.359496      1.046089      1.376403      0.918636      1.716961   \n",
              "max        5.579001      4.201660      4.298310      4.340303      7.121039   \n",
              "\n",
              "                  x             y             Z  \n",
              "count  10000.000000  10000.000000  10000.000000  \n",
              "mean       0.584010      0.973753      0.755718  \n",
              "std        1.608777      2.216820      1.364684  \n",
              "min       -5.260569     -7.214188     -4.142516  \n",
              "25%       -0.503971     -0.470169     -0.159272  \n",
              "50%        0.561199      0.955625      0.762106  \n",
              "75%        1.685734      2.479327      1.680683  \n",
              "max        6.725668     10.420179      6.598771  "
            ],
            "text/html": [
              "\n",
              "  <div id=\"df-45a73846-c806-4939-b4c8-f16cc855854e\">\n",
              "    <div class=\"colab-df-container\">\n",
              "      <div>\n",
              "<style scoped>\n",
              "    .dataframe tbody tr th:only-of-type {\n",
              "        vertical-align: middle;\n",
              "    }\n",
              "\n",
              "    .dataframe tbody tr th {\n",
              "        vertical-align: top;\n",
              "    }\n",
              "\n",
              "    .dataframe thead th {\n",
              "        text-align: right;\n",
              "    }\n",
              "</style>\n",
              "<table border=\"1\" class=\"dataframe\">\n",
              "  <thead>\n",
              "    <tr style=\"text-align: right;\">\n",
              "      <th></th>\n",
              "      <th>A</th>\n",
              "      <th>B</th>\n",
              "      <th>C</th>\n",
              "      <th>D</th>\n",
              "      <th>W</th>\n",
              "      <th>x</th>\n",
              "      <th>y</th>\n",
              "      <th>Z</th>\n",
              "    </tr>\n",
              "  </thead>\n",
              "  <tbody>\n",
              "    <tr>\n",
              "      <th>count</th>\n",
              "      <td>10000.000000</td>\n",
              "      <td>10000.000000</td>\n",
              "      <td>10000.000000</td>\n",
              "      <td>10000.000000</td>\n",
              "      <td>10000.000000</td>\n",
              "      <td>10000.000000</td>\n",
              "      <td>10000.000000</td>\n",
              "      <td>10000.000000</td>\n",
              "    </tr>\n",
              "    <tr>\n",
              "      <th>mean</th>\n",
              "      <td>0.394982</td>\n",
              "      <td>0.381566</td>\n",
              "      <td>0.710988</td>\n",
              "      <td>0.211290</td>\n",
              "      <td>0.512583</td>\n",
              "      <td>0.584010</td>\n",
              "      <td>0.973753</td>\n",
              "      <td>0.755718</td>\n",
              "    </tr>\n",
              "    <tr>\n",
              "      <th>std</th>\n",
              "      <td>1.440280</td>\n",
              "      <td>0.987606</td>\n",
              "      <td>0.993104</td>\n",
              "      <td>1.056776</td>\n",
              "      <td>1.739730</td>\n",
              "      <td>1.608777</td>\n",
              "      <td>2.216820</td>\n",
              "      <td>1.364684</td>\n",
              "    </tr>\n",
              "    <tr>\n",
              "      <th>min</th>\n",
              "      <td>-5.215048</td>\n",
              "      <td>-3.340101</td>\n",
              "      <td>-3.746632</td>\n",
              "      <td>-3.940893</td>\n",
              "      <td>-6.457293</td>\n",
              "      <td>-5.260569</td>\n",
              "      <td>-7.214188</td>\n",
              "      <td>-4.142516</td>\n",
              "    </tr>\n",
              "    <tr>\n",
              "      <th>25%</th>\n",
              "      <td>-0.570654</td>\n",
              "      <td>-0.289707</td>\n",
              "      <td>0.054712</td>\n",
              "      <td>-0.485442</td>\n",
              "      <td>-0.668365</td>\n",
              "      <td>-0.503971</td>\n",
              "      <td>-0.470169</td>\n",
              "      <td>-0.159272</td>\n",
              "    </tr>\n",
              "    <tr>\n",
              "      <th>50%</th>\n",
              "      <td>0.389879</td>\n",
              "      <td>0.372927</td>\n",
              "      <td>0.704078</td>\n",
              "      <td>0.228657</td>\n",
              "      <td>0.522088</td>\n",
              "      <td>0.561199</td>\n",
              "      <td>0.955625</td>\n",
              "      <td>0.762106</td>\n",
              "    </tr>\n",
              "    <tr>\n",
              "      <th>75%</th>\n",
              "      <td>1.359496</td>\n",
              "      <td>1.046089</td>\n",
              "      <td>1.376403</td>\n",
              "      <td>0.918636</td>\n",
              "      <td>1.716961</td>\n",
              "      <td>1.685734</td>\n",
              "      <td>2.479327</td>\n",
              "      <td>1.680683</td>\n",
              "    </tr>\n",
              "    <tr>\n",
              "      <th>max</th>\n",
              "      <td>5.579001</td>\n",
              "      <td>4.201660</td>\n",
              "      <td>4.298310</td>\n",
              "      <td>4.340303</td>\n",
              "      <td>7.121039</td>\n",
              "      <td>6.725668</td>\n",
              "      <td>10.420179</td>\n",
              "      <td>6.598771</td>\n",
              "    </tr>\n",
              "  </tbody>\n",
              "</table>\n",
              "</div>\n",
              "      <button class=\"colab-df-convert\" onclick=\"convertToInteractive('df-45a73846-c806-4939-b4c8-f16cc855854e')\"\n",
              "              title=\"Convert this dataframe to an interactive table.\"\n",
              "              style=\"display:none;\">\n",
              "        \n",
              "  <svg xmlns=\"http://www.w3.org/2000/svg\" height=\"24px\"viewBox=\"0 0 24 24\"\n",
              "       width=\"24px\">\n",
              "    <path d=\"M0 0h24v24H0V0z\" fill=\"none\"/>\n",
              "    <path d=\"M18.56 5.44l.94 2.06.94-2.06 2.06-.94-2.06-.94-.94-2.06-.94 2.06-2.06.94zm-11 1L8.5 8.5l.94-2.06 2.06-.94-2.06-.94L8.5 2.5l-.94 2.06-2.06.94zm10 10l.94 2.06.94-2.06 2.06-.94-2.06-.94-.94-2.06-.94 2.06-2.06.94z\"/><path d=\"M17.41 7.96l-1.37-1.37c-.4-.4-.92-.59-1.43-.59-.52 0-1.04.2-1.43.59L10.3 9.45l-7.72 7.72c-.78.78-.78 2.05 0 2.83L4 21.41c.39.39.9.59 1.41.59.51 0 1.02-.2 1.41-.59l7.78-7.78 2.81-2.81c.8-.78.8-2.07 0-2.86zM5.41 20L4 18.59l7.72-7.72 1.47 1.35L5.41 20z\"/>\n",
              "  </svg>\n",
              "      </button>\n",
              "      \n",
              "  <style>\n",
              "    .colab-df-container {\n",
              "      display:flex;\n",
              "      flex-wrap:wrap;\n",
              "      gap: 12px;\n",
              "    }\n",
              "\n",
              "    .colab-df-convert {\n",
              "      background-color: #E8F0FE;\n",
              "      border: none;\n",
              "      border-radius: 50%;\n",
              "      cursor: pointer;\n",
              "      display: none;\n",
              "      fill: #1967D2;\n",
              "      height: 32px;\n",
              "      padding: 0 0 0 0;\n",
              "      width: 32px;\n",
              "    }\n",
              "\n",
              "    .colab-df-convert:hover {\n",
              "      background-color: #E2EBFA;\n",
              "      box-shadow: 0px 1px 2px rgba(60, 64, 67, 0.3), 0px 1px 3px 1px rgba(60, 64, 67, 0.15);\n",
              "      fill: #174EA6;\n",
              "    }\n",
              "\n",
              "    [theme=dark] .colab-df-convert {\n",
              "      background-color: #3B4455;\n",
              "      fill: #D2E3FC;\n",
              "    }\n",
              "\n",
              "    [theme=dark] .colab-df-convert:hover {\n",
              "      background-color: #434B5C;\n",
              "      box-shadow: 0px 1px 3px 1px rgba(0, 0, 0, 0.15);\n",
              "      filter: drop-shadow(0px 1px 2px rgba(0, 0, 0, 0.3));\n",
              "      fill: #FFFFFF;\n",
              "    }\n",
              "  </style>\n",
              "\n",
              "      <script>\n",
              "        const buttonEl =\n",
              "          document.querySelector('#df-45a73846-c806-4939-b4c8-f16cc855854e button.colab-df-convert');\n",
              "        buttonEl.style.display =\n",
              "          google.colab.kernel.accessAllowed ? 'block' : 'none';\n",
              "\n",
              "        async function convertToInteractive(key) {\n",
              "          const element = document.querySelector('#df-45a73846-c806-4939-b4c8-f16cc855854e');\n",
              "          const dataTable =\n",
              "            await google.colab.kernel.invokeFunction('convertToInteractive',\n",
              "                                                     [key], {});\n",
              "          if (!dataTable) return;\n",
              "\n",
              "          const docLinkHtml = 'Like what you see? Visit the ' +\n",
              "            '<a target=\"_blank\" href=https://colab.research.google.com/notebooks/data_table.ipynb>data table notebook</a>'\n",
              "            + ' to learn more about interactive tables.';\n",
              "          element.innerHTML = '';\n",
              "          dataTable['output_type'] = 'display_data';\n",
              "          await google.colab.output.renderOutput(dataTable, element);\n",
              "          const docLink = document.createElement('div');\n",
              "          docLink.innerHTML = docLinkHtml;\n",
              "          element.appendChild(docLink);\n",
              "        }\n",
              "      </script>\n",
              "    </div>\n",
              "  </div>\n",
              "  "
            ]
          },
          "metadata": {},
          "execution_count": 54
        }
      ]
    },
    {
      "cell_type": "markdown",
      "source": [
        "Q2) 6."
      ],
      "metadata": {
        "id": "Y0QeJNnrOUJt"
      }
    },
    {
      "cell_type": "code",
      "source": [
        "def causalEffectEstimation(data, XColumns, XColumnsLabel, zColumns, yColumns, model = RandomForestClassifier(n_estimators=10)):\n",
        "   \n",
        "    # separate data into treatment, adjustment set, outcome\n",
        "    # treatment, X\n",
        "    trainX = data[XColumns]\n",
        "    # adjustment set, Z\n",
        "    trainZ = data[zColumns]\n",
        "    # outcome, Y\n",
        "    trainY = data[yColumns]\n",
        "    \n",
        "    # merge treatment, X and adjustment, Z\n",
        "    trainXZ = pd.concat([trainX, trainZ], axis = 1)\n",
        "\n",
        "    # we fit a ML model \n",
        "    model.fit(trainXZ, trainY)\n",
        "\n",
        "    ## Causal effect estimation of X on y\n",
        "\n",
        "    # No treatment: Set X = 0. \n",
        "    testXZ = trainXZ.copy()\n",
        "    testXZ[XColumns] = 0\n",
        "    # With treatment: Set X = 1.   \n",
        "    testXZTreatment = trainXZ.copy()\n",
        "    testXZTreatment[XColumns] = 1\n",
        "\n",
        "    # Estimate outcome without treatment    \n",
        "    Estimate = np.mean(model.predict(testXZ))\n",
        "    # Estimate outcome without treatment   \n",
        "    treatmentEstimate = np.mean(model.predict(testXZTreatment))\n",
        "    \n",
        "    # Estimate average treatment effect\n",
        "    causalEffect = treatmentEstimate - Estimate\n",
        "\n",
        "    # Print results:    \n",
        "    print('Causal effect:' + str(causalEffect))"
      ],
      "metadata": {
        "id": "gESD5l2Vct1e"
      },
      "execution_count": null,
      "outputs": []
    },
    {
      "cell_type": "markdown",
      "source": [
        "a. Empty adjustment set, {}"
      ],
      "metadata": {
        "id": "eukBuG1vy78w"
      }
    },
    {
      "cell_type": "code",
      "source": [
        "# No adjustment\n",
        "XColumns = ['x']\n",
        "zColumns = []\n",
        "yColumns = ['y']\n",
        "causalEffectEstimation(data, XColumns, 'x', zColumns, yColumns, LinearRegression())"
      ],
      "metadata": {
        "colab": {
          "base_uri": "https://localhost:8080/"
        },
        "id": "QwpoGD35o_0e",
        "outputId": "639f48be-6230-46ef-8a00-c19a135c6f12"
      },
      "execution_count": null,
      "outputs": [
        {
          "output_type": "stream",
          "name": "stdout",
          "text": [
            "Causal effect:0.9422406531626906\n"
          ]
        }
      ]
    },
    {
      "cell_type": "markdown",
      "source": [
        "b. Adjustment set {Z}"
      ],
      "metadata": {
        "id": "Xdjt_m8SzO3G"
      }
    },
    {
      "cell_type": "code",
      "source": [
        "# adjustment Z\n",
        "XColumns = ['x']\n",
        "zColumns = ['Z']\n",
        "yColumns = ['y']\n",
        "causalEffectEstimation(data, XColumns, 'x', zColumns, yColumns, LinearRegression())"
      ],
      "metadata": {
        "colab": {
          "base_uri": "https://localhost:8080/"
        },
        "id": "WFuGKQo_0G_g",
        "outputId": "b039ab40-e3c1-48ec-c169-efa170a5c118"
      },
      "execution_count": null,
      "outputs": [
        {
          "output_type": "stream",
          "name": "stdout",
          "text": [
            "Causal effect:0.6417030597911736\n"
          ]
        }
      ]
    },
    {
      "cell_type": "markdown",
      "source": [
        "c. Adjustment set {Z,A}"
      ],
      "metadata": {
        "id": "nkhryGd6Ml0g"
      }
    },
    {
      "cell_type": "code",
      "source": [
        "XColumns = ['x']\n",
        "zColumns = ['Z','A']\n",
        "yColumns = ['y']\n",
        "causalEffectEstimation(data, XColumns, 'x', zColumns, yColumns, LinearRegression())"
      ],
      "metadata": {
        "colab": {
          "base_uri": "https://localhost:8080/"
        },
        "id": "vZInkiW8Mb0Q",
        "outputId": "9bf1b452-29b1-4802-d196-4979de016a56"
      },
      "execution_count": null,
      "outputs": [
        {
          "output_type": "stream",
          "name": "stdout",
          "text": [
            "Causal effect:0.6470450790826662\n"
          ]
        }
      ]
    },
    {
      "cell_type": "markdown",
      "source": [
        "d. Adjustment set {Z,B}"
      ],
      "metadata": {
        "id": "GNWIuceRM0P0"
      }
    },
    {
      "cell_type": "code",
      "source": [
        "XColumns = ['x']\n",
        "zColumns = ['Z','B']\n",
        "yColumns = ['y']\n",
        "causalEffectEstimation(data, XColumns, 'x', zColumns, yColumns, LinearRegression())"
      ],
      "metadata": {
        "colab": {
          "base_uri": "https://localhost:8080/"
        },
        "id": "sSDBp3n-Meq5",
        "outputId": "335ca73e-8cce-4881-ca0b-9577701dda43"
      },
      "execution_count": null,
      "outputs": [
        {
          "output_type": "stream",
          "name": "stdout",
          "text": [
            "Causal effect:0.6578986305288841\n"
          ]
        }
      ]
    },
    {
      "cell_type": "markdown",
      "source": [
        "e. Adjustment set {Z,C}"
      ],
      "metadata": {
        "id": "vOeAGHc3NBrh"
      }
    },
    {
      "cell_type": "code",
      "source": [
        "XColumns = ['x']\n",
        "zColumns = ['Z','C']\n",
        "yColumns = ['y']\n",
        "causalEffectEstimation(data, XColumns, 'x', zColumns, yColumns, LinearRegression())"
      ],
      "metadata": {
        "colab": {
          "base_uri": "https://localhost:8080/"
        },
        "id": "ILOAgyT8MekT",
        "outputId": "e8975d43-9bab-4c7e-c493-86216cb8e947"
      },
      "execution_count": null,
      "outputs": [
        {
          "output_type": "stream",
          "name": "stdout",
          "text": [
            "Causal effect:0.6582357825455858\n"
          ]
        }
      ]
    },
    {
      "cell_type": "markdown",
      "source": [
        "f. Adjustment set {Z,D}"
      ],
      "metadata": {
        "id": "FBL9_036NP5x"
      }
    },
    {
      "cell_type": "code",
      "source": [
        "XColumns = ['x']\n",
        "zColumns = ['Z','D']\n",
        "yColumns = ['y']\n",
        "causalEffectEstimation(data, XColumns, 'x', zColumns, yColumns, LinearRegression())"
      ],
      "metadata": {
        "colab": {
          "base_uri": "https://localhost:8080/"
        },
        "id": "b1SvWE1SMeb_",
        "outputId": "774d0a89-e35a-449b-d47e-ed657baca17d"
      },
      "execution_count": null,
      "outputs": [
        {
          "output_type": "stream",
          "name": "stdout",
          "text": [
            "Causal effect:0.6568522573940178\n"
          ]
        }
      ]
    },
    {
      "cell_type": "markdown",
      "source": [
        "g. Adjustment set {A,B,C,D}"
      ],
      "metadata": {
        "id": "nqClstyINfH4"
      }
    },
    {
      "cell_type": "code",
      "source": [
        "XColumns = ['x']\n",
        "zColumns = ['A','B','C','D']\n",
        "yColumns = ['y']\n",
        "causalEffectEstimation(data, XColumns, 'x', zColumns, yColumns, LinearRegression())"
      ],
      "metadata": {
        "colab": {
          "base_uri": "https://localhost:8080/"
        },
        "id": "yXlj4JuLMdw6",
        "outputId": "f54f9d88-9041-48c5-d36e-014e55042ef2"
      },
      "execution_count": null,
      "outputs": [
        {
          "output_type": "stream",
          "name": "stdout",
          "text": [
            "Causal effect:0.859825977806574\n"
          ]
        }
      ]
    },
    {
      "cell_type": "markdown",
      "source": [
        "h. Adjustment set {Z,A,B,C,D}"
      ],
      "metadata": {
        "id": "fUfct8VvNwZ1"
      }
    },
    {
      "cell_type": "code",
      "source": [
        "XColumns = ['x']\n",
        "zColumns = ['Z','A','B','C','D']\n",
        "yColumns = ['y']\n",
        "causalEffectEstimation(data, XColumns, 'x', zColumns, yColumns, LinearRegression())"
      ],
      "metadata": {
        "colab": {
          "base_uri": "https://localhost:8080/"
        },
        "id": "-tmGqO46Mdoj",
        "outputId": "f5bc4a4c-a18f-4886-abbd-1057f52aa295"
      },
      "execution_count": null,
      "outputs": [
        {
          "output_type": "stream",
          "name": "stdout",
          "text": [
            "Causal effect:0.6516705994346009\n"
          ]
        }
      ]
    },
    {
      "cell_type": "markdown",
      "source": [
        "Q2) 7."
      ],
      "metadata": {
        "id": "yI0yewOhUbLT"
      }
    },
    {
      "cell_type": "markdown",
      "source": [
        "Answers 'a' with an empty adjustment set and 'g' with {A,B,C,D} adjustment set did not block all the backdoor path, hence, they have almost similar causal effect estimation. \n",
        "\n",
        "Answers 'c,d,e,f and h' block all the backdoor path, fullfilling the backdoor criterion.\n",
        "\n",
        "Answer 'b' {Z}- is a collider, with the least causal effect estimation did not block the backdoor path. Conditioning on Z will unblock the paths and will violate backdoor criterion\n"
      ],
      "metadata": {
        "id": "_TDNT1gVUiY2"
      }
    },
    {
      "cell_type": "markdown",
      "source": [
        "\n",
        "\n",
        "---\n",
        "\n",
        "\n",
        "\n",
        "---\n",
        "\n",
        "\n",
        "\n",
        "---\n",
        "\n",
        "\n",
        "\n",
        "---\n",
        "\n"
      ],
      "metadata": {
        "id": "U2oWsau_qDRj"
      }
    }
  ]
}